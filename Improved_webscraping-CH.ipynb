{
 "cells": [
  {
   "cell_type": "markdown",
   "id": "f21878a7-8555-47cb-a69e-a91bf9e6172f",
   "metadata": {},
   "source": [
    "# Web Scraping - Indeed.com\n",
    "General steps for Web Scraping\n",
    "1. Check whether the website allows web scraping\n",
    "2. Obtain the source code (HTML File) by using the website URL\n",
    "3. Download the website content\n",
    "4. Parse the content using keywords tags for elements of interest\n",
    "5. Extract relevant data/features\n",
    "6. Organize raw data in structured format (e.g., CSV)"
   ]
  },
  {
   "cell_type": "markdown",
   "id": "d2d3ed63-9a61-4138-a7b7-80c2b007c163",
   "metadata": {},
   "source": [
    "### Import Dependencies "
   ]
  },
  {
   "cell_type": "code",
   "execution_count": 23,
   "id": "35ae0964-b1e2-412b-8cb7-b1c17878f104",
   "metadata": {},
   "outputs": [],
   "source": [
    "import pandas as pd\n",
    "import numpy as np\n",
    "from bs4 import BeautifulSoup\n",
    "from datetime import datetime\n",
    "from arsenic import get_session\n",
    "from arsenic.browsers import Firefox\n",
    "from arsenic.services import Geckodriver\n",
    "import asyncio\n",
    "\n",
    "# disable arsenic logging to stdout\n",
    "import structlog\n",
    "import logging\n",
    "\n",
    "logger = logging.getLogger()\n",
    "logger.setLevel(logging.WARN)\n",
    "structlog.configure(logger_factory=lambda: logger)"
   ]
  },
  {
   "cell_type": "markdown",
   "id": "01ab0382-3af2-493d-9141-0ab4125394e2",
   "metadata": {},
   "source": [
    "### Path to webdriver (Firefox, Chrome) "
   ]
  },
  {
   "cell_type": "code",
   "execution_count": 24,
   "id": "c002166e-41a4-4a51-8eff-7317c155e59a",
   "metadata": {},
   "outputs": [],
   "source": [
    "# Ensure that the driver path is correct before running this script.\n",
    "# Microsoft Windows\n",
    "# driver_path = \"./drivers/windows/geckodriver.exe\"\n",
    "#driver_path = \"./programs/geckodriver.exe\"\n",
    "driver_path = 'C:\\programs\\geckodriver.exe'\n",
    "# Linux\n",
    "# driver_path = \"./drivers/linux/geckodriver\"\n",
    "# driver_path = \"/usr/bin/geckodriver\"\n",
    "\n",
    "options = {\n",
    "  'moz:firefoxOptions': {\n",
    "    # if you want it to be headless\n",
    "    'args': ['-headless'],\n",
    "    'log': {'level': 'warn'},\n",
    "    # Needed for windows / non-default firefox install\n",
    "    'binary': 'C:\\\\Program Files\\\\Mozilla Firefox\\\\firefox.exe'\n",
    "  }\n",
    "}"
   ]
  },
  {
   "cell_type": "markdown",
   "id": "7875a905-3a7c-4813-81c6-a1d85cbb880d",
   "metadata": {},
   "source": [
    "### Define position and location "
   ]
  },
  {
   "cell_type": "code",
   "execution_count": 25,
   "id": "b8fa642f-9019-47dc-8ae8-545c3b37588c",
   "metadata": {},
   "outputs": [],
   "source": [
    "## Enter a job position\n",
    "position = \"data scientist\"\n",
    "## Enter a location (City, State or Zip or remote)\n",
    "locations = \"Toronto\"\n",
    "\n",
    "def get_url(position, location):\n",
    "    url_template = \"https://www.indeed.com/jobs?q={}&l={}\"\n",
    "    url = url_template.format(position, location)\n",
    "    return url\n",
    "\n",
    "url = get_url(position, locations)\n",
    "dataframe = pd.DataFrame(columns=[\"Title\", \"Company\", \"Location\", \"Rating\", \"Date\", \"Salary\", \"Description\", \"Links\"])"
   ]
  },
  {
   "cell_type": "markdown",
   "id": "d197bc4b-a6e4-48c6-b49c-38be7fb1e89b",
   "metadata": {},
   "source": [
    "### Scrape job postings"
   ]
  },
  {
   "cell_type": "code",
   "execution_count": 26,
   "id": "b024b764-97fb-447a-98bd-6bee109e9bb6",
   "metadata": {},
   "outputs": [
    {
     "name": "stdout",
     "output_type": "stream",
     "text": [
      "Job number    1 added - Machine Learning/Data Engineer\n",
      "Job number    2 added - Data Scientist\n",
      "Job number    3 added - Data Science Manager\n",
      "Job number    4 added - Director, Data Science\n",
      "Job number    5 added - Sr. Data Analyst\n",
      "Job number    6 added - Senior Fiscal Data Analyst\n",
      "Job number    7 added - Data Scientist � Qatar � TS/SCI\n",
      "Job number    8 added - Sr. Data Scientist\n",
      "Job number    9 added - Data Scientist Senior\n",
      "Job number   10 added - Data Analyst Senior - Remote\n",
      "Job number   11 added - Treasury Data Analyst Senior - Remote\n",
      "Job number   12 added - Principal Statistical Programmer (Remote)\n",
      "Job number   13 added - Manager, Statistical Programming (Remote)\n",
      "Job number   14 added - Statistical Programmer II (Remote)\n",
      "Job number   15 added - Data Scientist\n",
      "Job number   16 added - Machine Learning/Data Engineer\n",
      "Job number   17 added - Data Scientist\n",
      "Job number   18 added - Data Science Manager\n",
      "Job number   19 added - Director, Data Science\n",
      "Job number   20 added - Sr. Data Analyst\n",
      "Job number   21 added - Senior Fiscal Data Analyst\n",
      "Job number   22 added - Data Scientist � Qatar � TS/SCI\n",
      "Job number   23 added - Sr. Data Scientist\n",
      "Job number   24 added - Data Scientist Senior\n",
      "Job number   25 added - Principal Statistical Programmer (Remote)\n",
      "Job number   26 added - Manager, Statistical Programming (Remote)\n"
     ]
    }
   ],
   "source": [
    "## Number of postings to scrape\n",
    "postings = 2000\n",
    "\n",
    "## Number of browser instances to use\n",
    "n = 3\n",
    "\n",
    "pages = list(range(0, postings, 10))\n",
    "\n",
    "state = {\n",
    "  'lock': asyncio.Lock(),\n",
    "  'ids': set(),\n",
    "  'n': 0\n",
    "}\n",
    "             \n",
    "async def get_jobs(url, pages, state):\n",
    "  data = []\n",
    "  async with get_session(Geckodriver(binary=driver_path, log_file=asyncio.subprocess.PIPE), Firefox(**options)) as session:\n",
    "    for i in pages:\n",
    "      await session.get(url + \"&start=\" + str(i))\n",
    "      jobs = await session.get_elements(\"[class='job_seen_beacon']\")\n",
    "\n",
    "      for job in jobs:\n",
    "        result_html = await job.get_property('innerHTML')\n",
    "        soup = BeautifulSoup(result_html, 'html.parser')\n",
    "\n",
    "        liens = await job.get_elements(\"a\")\n",
    "        link = await liens[0].get_attribute(\"href\")\n",
    "\n",
    "        title = soup.select('.jobTitle')[0].get_text().strip()\n",
    "        try:\n",
    "          company = soup.select('.companyName')[0].get_text().strip()\n",
    "        except:\n",
    "          continue\n",
    "        location = soup.select('.companyLocation')[0].get_text().strip()\n",
    "        try:\n",
    "            salary = soup.select('.salary-snippet-container')[0].get_text().strip()\n",
    "        except:\n",
    "            salary = 'NaN'\n",
    "        try:\n",
    "            rating = soup.select('.ratingNumber')[0].get_text().strip()\n",
    "        except:\n",
    "            rating = 'NaN'\n",
    "        try:\n",
    "            date = soup.select('.date')[0].get_text().strip()\n",
    "        except:\n",
    "            date = 'NaN'\n",
    "        try:\n",
    "            description = soup.select('.job-snippet')[0].get_text().strip()\n",
    "        except:\n",
    "            description = ''\n",
    "            \n",
    "        Id = f\"{title}{company}{location}{rating}{date}{salary}{description}\"\n",
    "        dupe = False\n",
    "        async with state['lock']:\n",
    "          if Id in state['ids']:\n",
    "            dupe = True\n",
    "          else:\n",
    "            state['ids'].add(Id)\n",
    "            state['n'] = state['n'] + 1\n",
    "            print(\"Job number {0:4d} added - {1:s}\".format(state['n'],title))\n",
    "        if dupe:\n",
    "          continue\n",
    "\n",
    "        data.append({\n",
    "          'Title': title,\n",
    "          \"Company\": company,\n",
    "          'Location': location,\n",
    "          'Rating': rating,\n",
    "          'Date': date,\n",
    "          \"Salary\": salary,\n",
    "          \"Description\": description,\n",
    "          \"Links\": link\n",
    "        })\n",
    "\n",
    "        # print(\"Job number {0:4d} added - {1:s}\".format(jn,title))\n",
    "      i = i + 10\n",
    "  return data\n",
    "\n",
    "tasks = [asyncio.create_task(get_jobs(url, p, state)) for p in np.array_split(pages, n)]\n",
    "dataframe = pd.DataFrame([j for task in tasks for j in await task])"
   ]
  },
  {
   "cell_type": "markdown",
   "id": "6bd23763-7d44-4547-9fa0-3152c78ad694",
   "metadata": {},
   "source": [
    "### Scrape full job descriptions"
   ]
  },
  {
   "cell_type": "code",
   "execution_count": 27,
   "id": "a0fa2f46-f8f5-4191-8ddb-60a23fb23429",
   "metadata": {},
   "outputs": [],
   "source": [
    "Links_list = dataframe['Links'].tolist()\n",
    "\n",
    "import random\n",
    "\n",
    "async def get_description(urls):\n",
    "  descriptions = []\n",
    "  async with get_session(Geckodriver(binary=driver_path, log_file=asyncio.subprocess.PIPE), Firefox(**options)) as session:\n",
    "    for url in urls:\n",
    "      await session.get(\"https://www.indeed.com\"+url)\n",
    "      jd = await session.get_element('#jobDescriptionText')\n",
    "      descriptions.append(await jd.get_text())\n",
    "      await asyncio.sleep(random.random() * 1.5)\n",
    "  return descriptions\n",
    "\n",
    "## Number of browser instances to use\n",
    "n = 3\n",
    "\n",
    "tasks = [asyncio.create_task(get_description(urls)) for urls in np.array_split(Links_list, n)]\n",
    "dataframe['Descriptions'] = [desc for task in tasks for desc in await task]"
   ]
  },
  {
   "cell_type": "markdown",
   "id": "c8c621c5-1032-470a-80a7-d67db2d65682",
   "metadata": {},
   "source": [
    "### Save results"
   ]
  },
  {
   "cell_type": "code",
   "execution_count": 28,
   "id": "6a6b94ad-ce51-4db0-851a-5719bf1b3fbd",
   "metadata": {},
   "outputs": [],
   "source": [
    "# Convert the dataframe to a csv file\n",
    "date = datetime.today().strftime('%Y-%m-%d')\n",
    "dataframe.to_csv(date + \"_\" + position + \"_\" + locations + \".csv\", index=False)"
   ]
  },
  {
   "cell_type": "code",
   "execution_count": 29,
   "id": "a6efb86f-6ea5-4a1a-9625-11976b4b342b",
   "metadata": {},
   "outputs": [
    {
     "data": {
      "text/plain": "                                        Title                        Company  \\\n0   Principal Statistical Programmer (Remote)                        PAREXEL   \n1                              Data Scientist                   ConnectiveRx   \n2              Machine Learning/Data Engineer                          Rosen   \n3                              Data Scientist                   ConnectiveRx   \n4                        Data Science Manager  Maronda Inc. and Subsidiaries   \n5                      Director, Data Science          DICK'S Sporting Goods   \n6                            Sr. Data Analyst                   ConnectiveRx   \n7                  Senior Fiscal Data Analyst               Beaver County PA   \n8             Data Scientist � Qatar � TS/SCI                        Peraton   \n9                          Sr. Data Scientist          Embrace Pet Insurance   \n10                      Data Scientist Senior                    Progressive   \n11  Principal Statistical Programmer (Remote)                        PAREXEL   \n12  Manager, Statistical Programming (Remote)                        PAREXEL   \n13  Manager, Statistical Programming (Remote)                        PAREXEL   \n14             Machine Learning/Data Engineer                          Rosen   \n15                             Data Scientist                   ConnectiveRx   \n16                       Data Science Manager  Maronda Inc. and Subsidiaries   \n17                     Director, Data Science          DICK'S Sporting Goods   \n18                           Sr. Data Analyst                   ConnectiveRx   \n19                 Senior Fiscal Data Analyst               Beaver County PA   \n20            Data Scientist � Qatar � TS/SCI                        Peraton   \n21                         Sr. Data Scientist          Embrace Pet Insurance   \n22                      Data Scientist Senior                    Progressive   \n23               Data Analyst Senior - Remote                    Progressive   \n24      Treasury Data Analyst Senior - Remote                    Progressive   \n25         Statistical Programmer II (Remote)                        PAREXEL   \n\n                          Location Rating                       Date  \\\n0          Remote in United States    3.6    PostedPosted 6 days ago   \n1             Pittsburgh, PA 15275    2.5   PostedPosted 12 days ago   \n2                   Remote in Ohio    3.7  PostedPosted 30+ days ago   \n3             Pittsburgh, PA 15275    2.5   PostedPosted 12 days ago   \n4               Imperial, PA 15126    NaN  PostedPosted 30+ days ago   \n5   Remote in Coraopolis, PA 15108    3.4  PostedPosted 30+ days ago   \n6             Pittsburgh, PA 15275    2.5   PostedPosted 25 days ago   \n7                 Beaver, PA 15009    NaN  PostedPosted 30+ days ago   \n8                    United States    3.2  PostedPosted 30+ days ago   \n9                    United States    3.9  PostedPosted 30+ days ago   \n10         Remote in United States    3.6   PostedPosted 23 days ago   \n11         Remote in United States    3.6    PostedPosted 6 days ago   \n12         Remote in United States    3.6    PostedPosted 6 days ago   \n13         Remote in United States    3.6    PostedPosted 6 days ago   \n14                  Remote in Ohio    3.7  PostedPosted 30+ days ago   \n15            Pittsburgh, PA 15275    2.5   PostedPosted 12 days ago   \n16              Imperial, PA 15126    NaN  PostedPosted 30+ days ago   \n17  Remote in Coraopolis, PA 15108    3.4  PostedPosted 30+ days ago   \n18            Pittsburgh, PA 15275    2.5   PostedPosted 25 days ago   \n19                Beaver, PA 15009    NaN  PostedPosted 30+ days ago   \n20                   United States    3.2  PostedPosted 30+ days ago   \n21                   United States    3.9  PostedPosted 30+ days ago   \n22         Remote in United States    3.6   PostedPosted 23 days ago   \n23         Remote in United States    3.6  PostedPosted 30+ days ago   \n24         Remote in United States    3.6    PostedPosted 2 days ago   \n25         Remote in United States    3.6    PostedPosted 6 days ago   \n\n                       Salary  \\\n0                         NaN   \n1                         NaN   \n2   $60,000 - $124,000 a year   \n3                         NaN   \n4                         NaN   \n5                         NaN   \n6                         NaN   \n7                         NaN   \n8             $115,000 a year   \n9                         NaN   \n10  $80,300 - $107,500 a year   \n11                        NaN   \n12                        NaN   \n13                        NaN   \n14  $60,000 - $124,000 a year   \n15                        NaN   \n16                        NaN   \n17                        NaN   \n18                        NaN   \n19                        NaN   \n20            $115,000 a year   \n21                        NaN   \n22  $80,300 - $107,500 a year   \n23   $66,300 - $88,400 a year   \n24   $66,300 - $88,400 a year   \n25                        NaN   \n\n                                          Description  \\\n0   Provide leadership, project specific training,...   \n1   Strong analytics skills, ability to interpret ...   \n2   This is a remote hybrid position ROSEN is a le...   \n3   ConnectiveRx is a leading, technology-enabled ...   \n4   Position Overview The Data Science Manager rol...   \n5   The Director of Data Science plays a leadershi...   \n6   ConnectiveRx is a leading, technology-enabled ...   \n7   POSITION DESCRIPTION: To provide complex fisca...   \n8   Responsibilities: In support of the Operationa...   \n9   Overview: Company Description Embrace Pet Insu...   \n10  Data Scientist Senior Job Number: 202132 Join ...   \n11  Be part of our empowered Parexel Statistical P...   \n12  Parexel is looking for a Manager of Statistica...   \n13  The Manager may also be part of a project team...   \n14  Be part of a new team and learn more about ind...   \n15  Strong analytics skills, ability to interpret ...   \n16  Develop and direct high-performing data scient...   \n17  Lead workstreams that require cross-functional...   \n18  In addition, the Senior Data Analyst will coll...   \n19  Filter and “clean” data, identify, analyze, an...   \n20  Work independently or in collaboration with so...   \n21  Embrace offers a competitive compensation mode...   \n22  Health care flexible spending accounts, health...   \n23  Health care flexible spending accounts, health...   \n24  Using your passion for problem-solving, you’ll...   \n25  The Statistical Programmer II provides technic...   \n\n                                                Links  \\\n0   /pagead/clk?mo=r&ad=-6NYlbfkN0Awiy0szp24tPN-CL...   \n1   /rc/clk?jk=cc77fa3f85227d70&fccid=f91bc921fa96...   \n2   /pagead/clk?mo=r&ad=-6NYlbfkN0D4Xqdf8KU0xH7oiY...   \n3   /rc/clk?jk=cc77fa3f85227d70&fccid=f91bc921fa96...   \n4   /rc/clk?jk=8f0ae7db102b2330&fccid=dd616958bd9d...   \n5   /rc/clk?jk=c843c5dfd64b36fb&fccid=55a2bdb0a91b...   \n6   /rc/clk?jk=962de45806d34472&fccid=f91bc921fa96...   \n7   /rc/clk?jk=edbe74bb6db88921&fccid=5ebd2c0a66d2...   \n8   /pagead/clk?mo=r&ad=-6NYlbfkN0BWrJOJIc9CpN6yMp...   \n9   /pagead/clk?mo=r&ad=-6NYlbfkN0AftNSAXRSndXnucC...   \n10  /pagead/clk?mo=r&ad=-6NYlbfkN0DL_Oi7Zazb0cXECP...   \n11  /pagead/clk?mo=r&ad=-6NYlbfkN0Awiy0szp24tPN-CL...   \n12  /pagead/clk?mo=r&ad=-6NYlbfkN0Awiy0szp24tPN-CL...   \n13  /pagead/clk?mo=r&ad=-6NYlbfkN0Awiy0szp24tPN-CL...   \n14  /pagead/clk?mo=r&ad=-6NYlbfkN0D4Xqdf8KU0xH7oiY...   \n15  /rc/clk?jk=cc77fa3f85227d70&fccid=f91bc921fa96...   \n16  /rc/clk?jk=8f0ae7db102b2330&fccid=dd616958bd9d...   \n17  /rc/clk?jk=c843c5dfd64b36fb&fccid=55a2bdb0a91b...   \n18  /rc/clk?jk=962de45806d34472&fccid=f91bc921fa96...   \n19  /rc/clk?jk=edbe74bb6db88921&fccid=5ebd2c0a66d2...   \n20  /pagead/clk?mo=r&ad=-6NYlbfkN0BWrJOJIc9CpN6yMp...   \n21  /pagead/clk?mo=r&ad=-6NYlbfkN0AftNSAXRSndXnucC...   \n22  /pagead/clk?mo=r&ad=-6NYlbfkN0DL_Oi7Zazb0cXECP...   \n23  /pagead/clk?mo=r&ad=-6NYlbfkN0DL_Oi7Zazb0cXECP...   \n24  /pagead/clk?mo=r&ad=-6NYlbfkN0DL_Oi7Zazb0cXECP...   \n25  /pagead/clk?mo=r&ad=-6NYlbfkN0Awiy0szp24tPN-CL...   \n\n                                         Descriptions  \n0   Be part of our empowered Parexel Statistical P...  \n1   ConnectiveRx is a leading, technology-enabled ...  \n2   This is a remote hybrid position\\nROSEN is a l...  \n3   ConnectiveRx is a leading, technology-enabled ...  \n4   Position Overview\\nThe Data Science Manager ro...  \n5   The Director of Data Science plays a leadershi...  \n6   ConnectiveRx is a leading, technology-enabled ...  \n7   POSITION DESCRIPTION:\\nTo provide complex fisc...  \n8   Responsibilities:\\nIn support of the Operation...  \n9   Overview:\\nCompany Description\\nEmbrace Pet In...  \n10  Data Scientist Senior\\nJob Number : 202132\\n\\n...  \n11  Be part of our empowered Parexel Statistical P...  \n12  Parexel is looking for a Manager of Statistica...  \n13  Parexel is looking for a Manager of Statistica...  \n14  This is a remote hybrid position\\nROSEN is a l...  \n15  ConnectiveRx is a leading, technology-enabled ...  \n16  Position Overview\\nThe Data Science Manager ro...  \n17  The Director of Data Science plays a leadershi...  \n18  ConnectiveRx is a leading, technology-enabled ...  \n19  POSITION DESCRIPTION:\\nTo provide complex fisc...  \n20  Responsibilities:\\nIn support of the Operation...  \n21  Overview:\\nCompany Description\\nEmbrace Pet In...  \n22  Data Scientist Senior\\nJob Number : 202132\\n\\n...  \n23  Data Analyst Senior - Remote\\nJob Number : 200...  \n24  Treasury Data Analyst Senior - Remote\\nJob Num...  \n25  Be part of our empowered Parexel Statistical P...  ",
      "text/html": "<div>\n<style scoped>\n    .dataframe tbody tr th:only-of-type {\n        vertical-align: middle;\n    }\n\n    .dataframe tbody tr th {\n        vertical-align: top;\n    }\n\n    .dataframe thead th {\n        text-align: right;\n    }\n</style>\n<table border=\"1\" class=\"dataframe\">\n  <thead>\n    <tr style=\"text-align: right;\">\n      <th></th>\n      <th>Title</th>\n      <th>Company</th>\n      <th>Location</th>\n      <th>Rating</th>\n      <th>Date</th>\n      <th>Salary</th>\n      <th>Description</th>\n      <th>Links</th>\n      <th>Descriptions</th>\n    </tr>\n  </thead>\n  <tbody>\n    <tr>\n      <th>0</th>\n      <td>Principal Statistical Programmer (Remote)</td>\n      <td>PAREXEL</td>\n      <td>Remote in United States</td>\n      <td>3.6</td>\n      <td>PostedPosted 6 days ago</td>\n      <td>NaN</td>\n      <td>Provide leadership, project specific training,...</td>\n      <td>/pagead/clk?mo=r&amp;ad=-6NYlbfkN0Awiy0szp24tPN-CL...</td>\n      <td>Be part of our empowered Parexel Statistical P...</td>\n    </tr>\n    <tr>\n      <th>1</th>\n      <td>Data Scientist</td>\n      <td>ConnectiveRx</td>\n      <td>Pittsburgh, PA 15275</td>\n      <td>2.5</td>\n      <td>PostedPosted 12 days ago</td>\n      <td>NaN</td>\n      <td>Strong analytics skills, ability to interpret ...</td>\n      <td>/rc/clk?jk=cc77fa3f85227d70&amp;fccid=f91bc921fa96...</td>\n      <td>ConnectiveRx is a leading, technology-enabled ...</td>\n    </tr>\n    <tr>\n      <th>2</th>\n      <td>Machine Learning/Data Engineer</td>\n      <td>Rosen</td>\n      <td>Remote in Ohio</td>\n      <td>3.7</td>\n      <td>PostedPosted 30+ days ago</td>\n      <td>$60,000 - $124,000 a year</td>\n      <td>This is a remote hybrid position ROSEN is a le...</td>\n      <td>/pagead/clk?mo=r&amp;ad=-6NYlbfkN0D4Xqdf8KU0xH7oiY...</td>\n      <td>This is a remote hybrid position\\nROSEN is a l...</td>\n    </tr>\n    <tr>\n      <th>3</th>\n      <td>Data Scientist</td>\n      <td>ConnectiveRx</td>\n      <td>Pittsburgh, PA 15275</td>\n      <td>2.5</td>\n      <td>PostedPosted 12 days ago</td>\n      <td>NaN</td>\n      <td>ConnectiveRx is a leading, technology-enabled ...</td>\n      <td>/rc/clk?jk=cc77fa3f85227d70&amp;fccid=f91bc921fa96...</td>\n      <td>ConnectiveRx is a leading, technology-enabled ...</td>\n    </tr>\n    <tr>\n      <th>4</th>\n      <td>Data Science Manager</td>\n      <td>Maronda Inc. and Subsidiaries</td>\n      <td>Imperial, PA 15126</td>\n      <td>NaN</td>\n      <td>PostedPosted 30+ days ago</td>\n      <td>NaN</td>\n      <td>Position Overview The Data Science Manager rol...</td>\n      <td>/rc/clk?jk=8f0ae7db102b2330&amp;fccid=dd616958bd9d...</td>\n      <td>Position Overview\\nThe Data Science Manager ro...</td>\n    </tr>\n    <tr>\n      <th>5</th>\n      <td>Director, Data Science</td>\n      <td>DICK'S Sporting Goods</td>\n      <td>Remote in Coraopolis, PA 15108</td>\n      <td>3.4</td>\n      <td>PostedPosted 30+ days ago</td>\n      <td>NaN</td>\n      <td>The Director of Data Science plays a leadershi...</td>\n      <td>/rc/clk?jk=c843c5dfd64b36fb&amp;fccid=55a2bdb0a91b...</td>\n      <td>The Director of Data Science plays a leadershi...</td>\n    </tr>\n    <tr>\n      <th>6</th>\n      <td>Sr. Data Analyst</td>\n      <td>ConnectiveRx</td>\n      <td>Pittsburgh, PA 15275</td>\n      <td>2.5</td>\n      <td>PostedPosted 25 days ago</td>\n      <td>NaN</td>\n      <td>ConnectiveRx is a leading, technology-enabled ...</td>\n      <td>/rc/clk?jk=962de45806d34472&amp;fccid=f91bc921fa96...</td>\n      <td>ConnectiveRx is a leading, technology-enabled ...</td>\n    </tr>\n    <tr>\n      <th>7</th>\n      <td>Senior Fiscal Data Analyst</td>\n      <td>Beaver County PA</td>\n      <td>Beaver, PA 15009</td>\n      <td>NaN</td>\n      <td>PostedPosted 30+ days ago</td>\n      <td>NaN</td>\n      <td>POSITION DESCRIPTION: To provide complex fisca...</td>\n      <td>/rc/clk?jk=edbe74bb6db88921&amp;fccid=5ebd2c0a66d2...</td>\n      <td>POSITION DESCRIPTION:\\nTo provide complex fisc...</td>\n    </tr>\n    <tr>\n      <th>8</th>\n      <td>Data Scientist � Qatar � TS/SCI</td>\n      <td>Peraton</td>\n      <td>United States</td>\n      <td>3.2</td>\n      <td>PostedPosted 30+ days ago</td>\n      <td>$115,000 a year</td>\n      <td>Responsibilities: In support of the Operationa...</td>\n      <td>/pagead/clk?mo=r&amp;ad=-6NYlbfkN0BWrJOJIc9CpN6yMp...</td>\n      <td>Responsibilities:\\nIn support of the Operation...</td>\n    </tr>\n    <tr>\n      <th>9</th>\n      <td>Sr. Data Scientist</td>\n      <td>Embrace Pet Insurance</td>\n      <td>United States</td>\n      <td>3.9</td>\n      <td>PostedPosted 30+ days ago</td>\n      <td>NaN</td>\n      <td>Overview: Company Description Embrace Pet Insu...</td>\n      <td>/pagead/clk?mo=r&amp;ad=-6NYlbfkN0AftNSAXRSndXnucC...</td>\n      <td>Overview:\\nCompany Description\\nEmbrace Pet In...</td>\n    </tr>\n    <tr>\n      <th>10</th>\n      <td>Data Scientist Senior</td>\n      <td>Progressive</td>\n      <td>Remote in United States</td>\n      <td>3.6</td>\n      <td>PostedPosted 23 days ago</td>\n      <td>$80,300 - $107,500 a year</td>\n      <td>Data Scientist Senior Job Number: 202132 Join ...</td>\n      <td>/pagead/clk?mo=r&amp;ad=-6NYlbfkN0DL_Oi7Zazb0cXECP...</td>\n      <td>Data Scientist Senior\\nJob Number : 202132\\n\\n...</td>\n    </tr>\n    <tr>\n      <th>11</th>\n      <td>Principal Statistical Programmer (Remote)</td>\n      <td>PAREXEL</td>\n      <td>Remote in United States</td>\n      <td>3.6</td>\n      <td>PostedPosted 6 days ago</td>\n      <td>NaN</td>\n      <td>Be part of our empowered Parexel Statistical P...</td>\n      <td>/pagead/clk?mo=r&amp;ad=-6NYlbfkN0Awiy0szp24tPN-CL...</td>\n      <td>Be part of our empowered Parexel Statistical P...</td>\n    </tr>\n    <tr>\n      <th>12</th>\n      <td>Manager, Statistical Programming (Remote)</td>\n      <td>PAREXEL</td>\n      <td>Remote in United States</td>\n      <td>3.6</td>\n      <td>PostedPosted 6 days ago</td>\n      <td>NaN</td>\n      <td>Parexel is looking for a Manager of Statistica...</td>\n      <td>/pagead/clk?mo=r&amp;ad=-6NYlbfkN0Awiy0szp24tPN-CL...</td>\n      <td>Parexel is looking for a Manager of Statistica...</td>\n    </tr>\n    <tr>\n      <th>13</th>\n      <td>Manager, Statistical Programming (Remote)</td>\n      <td>PAREXEL</td>\n      <td>Remote in United States</td>\n      <td>3.6</td>\n      <td>PostedPosted 6 days ago</td>\n      <td>NaN</td>\n      <td>The Manager may also be part of a project team...</td>\n      <td>/pagead/clk?mo=r&amp;ad=-6NYlbfkN0Awiy0szp24tPN-CL...</td>\n      <td>Parexel is looking for a Manager of Statistica...</td>\n    </tr>\n    <tr>\n      <th>14</th>\n      <td>Machine Learning/Data Engineer</td>\n      <td>Rosen</td>\n      <td>Remote in Ohio</td>\n      <td>3.7</td>\n      <td>PostedPosted 30+ days ago</td>\n      <td>$60,000 - $124,000 a year</td>\n      <td>Be part of a new team and learn more about ind...</td>\n      <td>/pagead/clk?mo=r&amp;ad=-6NYlbfkN0D4Xqdf8KU0xH7oiY...</td>\n      <td>This is a remote hybrid position\\nROSEN is a l...</td>\n    </tr>\n    <tr>\n      <th>15</th>\n      <td>Data Scientist</td>\n      <td>ConnectiveRx</td>\n      <td>Pittsburgh, PA 15275</td>\n      <td>2.5</td>\n      <td>PostedPosted 12 days ago</td>\n      <td>NaN</td>\n      <td>Strong analytics skills, ability to interpret ...</td>\n      <td>/rc/clk?jk=cc77fa3f85227d70&amp;fccid=f91bc921fa96...</td>\n      <td>ConnectiveRx is a leading, technology-enabled ...</td>\n    </tr>\n    <tr>\n      <th>16</th>\n      <td>Data Science Manager</td>\n      <td>Maronda Inc. and Subsidiaries</td>\n      <td>Imperial, PA 15126</td>\n      <td>NaN</td>\n      <td>PostedPosted 30+ days ago</td>\n      <td>NaN</td>\n      <td>Develop and direct high-performing data scient...</td>\n      <td>/rc/clk?jk=8f0ae7db102b2330&amp;fccid=dd616958bd9d...</td>\n      <td>Position Overview\\nThe Data Science Manager ro...</td>\n    </tr>\n    <tr>\n      <th>17</th>\n      <td>Director, Data Science</td>\n      <td>DICK'S Sporting Goods</td>\n      <td>Remote in Coraopolis, PA 15108</td>\n      <td>3.4</td>\n      <td>PostedPosted 30+ days ago</td>\n      <td>NaN</td>\n      <td>Lead workstreams that require cross-functional...</td>\n      <td>/rc/clk?jk=c843c5dfd64b36fb&amp;fccid=55a2bdb0a91b...</td>\n      <td>The Director of Data Science plays a leadershi...</td>\n    </tr>\n    <tr>\n      <th>18</th>\n      <td>Sr. Data Analyst</td>\n      <td>ConnectiveRx</td>\n      <td>Pittsburgh, PA 15275</td>\n      <td>2.5</td>\n      <td>PostedPosted 25 days ago</td>\n      <td>NaN</td>\n      <td>In addition, the Senior Data Analyst will coll...</td>\n      <td>/rc/clk?jk=962de45806d34472&amp;fccid=f91bc921fa96...</td>\n      <td>ConnectiveRx is a leading, technology-enabled ...</td>\n    </tr>\n    <tr>\n      <th>19</th>\n      <td>Senior Fiscal Data Analyst</td>\n      <td>Beaver County PA</td>\n      <td>Beaver, PA 15009</td>\n      <td>NaN</td>\n      <td>PostedPosted 30+ days ago</td>\n      <td>NaN</td>\n      <td>Filter and “clean” data, identify, analyze, an...</td>\n      <td>/rc/clk?jk=edbe74bb6db88921&amp;fccid=5ebd2c0a66d2...</td>\n      <td>POSITION DESCRIPTION:\\nTo provide complex fisc...</td>\n    </tr>\n    <tr>\n      <th>20</th>\n      <td>Data Scientist � Qatar � TS/SCI</td>\n      <td>Peraton</td>\n      <td>United States</td>\n      <td>3.2</td>\n      <td>PostedPosted 30+ days ago</td>\n      <td>$115,000 a year</td>\n      <td>Work independently or in collaboration with so...</td>\n      <td>/pagead/clk?mo=r&amp;ad=-6NYlbfkN0BWrJOJIc9CpN6yMp...</td>\n      <td>Responsibilities:\\nIn support of the Operation...</td>\n    </tr>\n    <tr>\n      <th>21</th>\n      <td>Sr. Data Scientist</td>\n      <td>Embrace Pet Insurance</td>\n      <td>United States</td>\n      <td>3.9</td>\n      <td>PostedPosted 30+ days ago</td>\n      <td>NaN</td>\n      <td>Embrace offers a competitive compensation mode...</td>\n      <td>/pagead/clk?mo=r&amp;ad=-6NYlbfkN0AftNSAXRSndXnucC...</td>\n      <td>Overview:\\nCompany Description\\nEmbrace Pet In...</td>\n    </tr>\n    <tr>\n      <th>22</th>\n      <td>Data Scientist Senior</td>\n      <td>Progressive</td>\n      <td>Remote in United States</td>\n      <td>3.6</td>\n      <td>PostedPosted 23 days ago</td>\n      <td>$80,300 - $107,500 a year</td>\n      <td>Health care flexible spending accounts, health...</td>\n      <td>/pagead/clk?mo=r&amp;ad=-6NYlbfkN0DL_Oi7Zazb0cXECP...</td>\n      <td>Data Scientist Senior\\nJob Number : 202132\\n\\n...</td>\n    </tr>\n    <tr>\n      <th>23</th>\n      <td>Data Analyst Senior - Remote</td>\n      <td>Progressive</td>\n      <td>Remote in United States</td>\n      <td>3.6</td>\n      <td>PostedPosted 30+ days ago</td>\n      <td>$66,300 - $88,400 a year</td>\n      <td>Health care flexible spending accounts, health...</td>\n      <td>/pagead/clk?mo=r&amp;ad=-6NYlbfkN0DL_Oi7Zazb0cXECP...</td>\n      <td>Data Analyst Senior - Remote\\nJob Number : 200...</td>\n    </tr>\n    <tr>\n      <th>24</th>\n      <td>Treasury Data Analyst Senior - Remote</td>\n      <td>Progressive</td>\n      <td>Remote in United States</td>\n      <td>3.6</td>\n      <td>PostedPosted 2 days ago</td>\n      <td>$66,300 - $88,400 a year</td>\n      <td>Using your passion for problem-solving, you’ll...</td>\n      <td>/pagead/clk?mo=r&amp;ad=-6NYlbfkN0DL_Oi7Zazb0cXECP...</td>\n      <td>Treasury Data Analyst Senior - Remote\\nJob Num...</td>\n    </tr>\n    <tr>\n      <th>25</th>\n      <td>Statistical Programmer II (Remote)</td>\n      <td>PAREXEL</td>\n      <td>Remote in United States</td>\n      <td>3.6</td>\n      <td>PostedPosted 6 days ago</td>\n      <td>NaN</td>\n      <td>The Statistical Programmer II provides technic...</td>\n      <td>/pagead/clk?mo=r&amp;ad=-6NYlbfkN0Awiy0szp24tPN-CL...</td>\n      <td>Be part of our empowered Parexel Statistical P...</td>\n    </tr>\n  </tbody>\n</table>\n</div>"
     },
     "execution_count": 29,
     "metadata": {},
     "output_type": "execute_result"
    }
   ],
   "source": [
    "dataframe"
   ]
  }
 ],
 "metadata": {
  "kernelspec": {
   "display_name": "Python 3 (ipykernel)",
   "language": "python",
   "name": "python3"
  },
  "language_info": {
   "codemirror_mode": {
    "name": "ipython",
    "version": 3
   },
   "file_extension": ".py",
   "mimetype": "text/x-python",
   "name": "python",
   "nbconvert_exporter": "python",
   "pygments_lexer": "ipython3",
   "version": "3.9.7"
  }
 },
 "nbformat": 4,
 "nbformat_minor": 5
}
